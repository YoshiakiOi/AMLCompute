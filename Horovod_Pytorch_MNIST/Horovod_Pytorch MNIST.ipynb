{
  "cells": [
    {
      "metadata": {},
      "cell_type": "markdown",
      "source": "# Machine Learning Service - AML ComputeでPytorch MNISTを実行する"
    },
    {
      "metadata": {},
      "cell_type": "markdown",
      "source": "## SDKのインストール\nAzure Notebookで実行する際は、SDKのインストールから開始することができます。\n自分のJupyter環境を利用する場合は、別途環境設定が必要です。\n詳細は下記をご参照ください。\nhttps://docs.microsoft.com/ja-jp/azure/machine-learning/service/how-to-configure-environment"
    },
    {
      "metadata": {
        "trusted": true
      },
      "cell_type": "code",
      "source": "# Check core SDK version number\nimport azureml.core\n\nprint(\"SDK version:\", azureml.core.VERSION)",
      "execution_count": 17,
      "outputs": [
        {
          "output_type": "stream",
          "text": "SDK version: 1.0.2\n",
          "name": "stdout"
        }
      ]
    },
    {
      "metadata": {},
      "cell_type": "markdown",
      "source": "## 診断ツールのインストール"
    },
    {
      "metadata": {
        "trusted": true
      },
      "cell_type": "code",
      "source": "from azureml.telemetry import set_diagnostics_collection\n\nset_diagnostics_collection(send_diagnostics=True)",
      "execution_count": 18,
      "outputs": []
    },
    {
      "metadata": {},
      "cell_type": "markdown",
      "source": "## ワークスペースの作成\nAzure Machine Learning Serviceでは、ワークスペースという管理単位でジョブやクラスターなどを管理します。また、最初にワークスペースを作成する際には、ワークスペースを含むリソースグループの中に、Azure Storage Account, Azure Container Registry, Azure Application Insightsが一緒に作成され、裏側で連携するようになっています。\n下記のいずれかから、ワークスペースを作成・設定します。なお、下記のプロセスではAzure ADの認証が発生する場合があります。"
    },
    {
      "metadata": {
        "trusted": true
      },
      "cell_type": "code",
      "source": "# ワークスペースを新規に作成する\n# ワークスペースの作成には引数として、名前、サブスクリプションID、リソースグループ名、ロケーション（リージョン）が必要です。\nfrom azureml.core.workspace import Workspace\n\nws = Workspace.create(name='WS-EastUS',\n                      subscription_id='d36d3e26-1efc-45c9-9af2-b4c3fc712ef9',\n                      resource_group='ML-EastUS',\n                      create_resource_group=True,\n                      location='eastus' # or other supported Azure region\n                     )",
      "execution_count": 5,
      "outputs": [
        {
          "output_type": "stream",
          "text": "Performing interactive authentication. Please follow the instructions on the terminal.\n",
          "name": "stdout"
        },
        {
          "output_type": "stream",
          "text": "To sign in, use a web browser to open the page https://microsoft.com/devicelogin and enter the code FEH8JQ5M6 to authenticate.\n",
          "name": "stderr"
        },
        {
          "output_type": "stream",
          "text": "Interactive authentication successfully completed.\n",
          "name": "stdout"
        },
        {
          "output_type": "stream",
          "text": "UserWarning: The resource group doesn't exist or was not provided. AzureML SDK is creating a resource group=ML-EastUS in location=eastus using subscription=d36d3e26-1efc-45c9-9af2-b4c3fc712ef9.\n",
          "name": "stderr"
        }
      ]
    },
    {
      "metadata": {
        "trusted": true
      },
      "cell_type": "code",
      "source": "# 既存のワークスペースをつなげる\nfrom azureml.core.workspace import Workspace\nws = Workspace.get(name='WS-EastUS',\n                      subscription_id='d36d3e26-1efc-45c9-9af2-b4c3fc712ef9',\n                      resource_group='ML-EastUS'\n                     )",
      "execution_count": 20,
      "outputs": []
    },
    {
      "metadata": {
        "trusted": true
      },
      "cell_type": "code",
      "source": "# ワークスペース情報をconfigファイルに設定する\nws.write_config()",
      "execution_count": 32,
      "outputs": [
        {
          "output_type": "stream",
          "text": "Wrote the config file config.json to: /home/nbuser/library/training/02.distributed-pytorch-with-horovod/aml_config/config.json\n",
          "name": "stdout"
        }
      ]
    },
    {
      "metadata": {
        "trusted": true
      },
      "cell_type": "code",
      "source": "# configファイルから既存のワークスペース情報を取得し、つなげる\nws = Workspace.from_config()",
      "execution_count": 33,
      "outputs": [
        {
          "output_type": "stream",
          "text": "Found the config file in: /home/nbuser/library/training/02.distributed-pytorch-with-horovod/aml_config/config.json\n",
          "name": "stdout"
        }
      ]
    },
    {
      "metadata": {},
      "cell_type": "markdown",
      "source": "## AML Computeクラスターの作成\nAzure Machine Learning Serviceの中で、AML Computeクラスターを作成します。\n下記では、既存のクラスターが存在する場合はクラスターを接続、ない場合は新規にクラスターを作成します。"
    },
    {
      "metadata": {
        "trusted": true
      },
      "cell_type": "code",
      "source": "from azureml.core.compute import ComputeTarget, AmlCompute\nfrom azureml.core.compute_target import ComputeTargetException\n\n# choose a name for your cluster\ncluster_name = \"gpucluster\"\n\ntry:\n    compute_target = ComputeTarget(workspace=ws, name=cluster_name)\n    print('Found existing compute target.')\nexcept ComputeTargetException:\n    print('Creating a new compute target...')\n    compute_config = AmlCompute.provisioning_configuration(vm_size='STANDARD_NC6',\n                                                           vm_priority=\"lowpriority\",\n                                                           max_nodes=2)\n\n    # create the cluster\n    compute_target = ComputeTarget.create(ws, cluster_name, compute_config)\n\n    compute_target.wait_for_completion(show_output=True)\n\n# Use the 'status' property to get a detailed status for the current AmlCompute. \nprint(compute_target.status.serialize())",
      "execution_count": 21,
      "outputs": [
        {
          "output_type": "stream",
          "text": "Found existing compute target.\n{'allocationState': 'Steady', 'allocationStateTransitionTime': '2018-12-23T15:17:38.951000+00:00', 'creationTime': '2018-12-23T15:16:43.882504+00:00', 'currentNodeCount': 0, 'errors': None, 'modifiedTime': '2018-12-23T15:17:47.901864+00:00', 'nodeStateCounts': {'idleNodeCount': 0, 'leavingNodeCount': 0, 'preemptedNodeCount': 0, 'preparingNodeCount': 0, 'runningNodeCount': 0, 'unusableNodeCount': 0}, 'provisioningState': 'Succeeded', 'provisioningStateTransitionTime': None, 'scaleSettings': {'minNodeCount': 0, 'maxNodeCount': 2, 'nodeIdleTimeBeforeScaleDown': 'PT120S'}, 'targetNodeCount': 0, 'vmPriority': 'LowPriority', 'vmSize': 'STANDARD_NC6'}\n",
          "name": "stdout"
        }
      ]
    },
    {
      "metadata": {},
      "cell_type": "markdown",
      "source": "## サンプルコードの用意\nローカル（この例では、Azure Notebookの動いている環境（コンテナー）上）にディレクトリと実際に使うコードを用意します。\nこの例では、カレントディレクトリの配下にpytorch-distr-hvdを作成します。"
    },
    {
      "metadata": {
        "trusted": true
      },
      "cell_type": "code",
      "source": "import os\n\nproject_folder = './pytorch-distr-hvd'\nos.makedirs(project_folder, exist_ok=True)",
      "execution_count": 22,
      "outputs": []
    },
    {
      "metadata": {},
      "cell_type": "markdown",
      "source": "### Pytorch・HorovodのMNISTのサンプルコードをダウンロードします"
    },
    {
      "metadata": {
        "trusted": true
      },
      "cell_type": "code",
      "source": "import shutil\n\n!wget(\"https://github.com/Azure/MachineLearningNotebooks/blob/master/how-to-use-azureml/training-with-deep-learning/distributed-pytorch-with-horovod/pytorch_horovod_mnist.py\")\nshutil.copy('pytorch_horovod_mnist.py', project_folder)",
      "execution_count": 23,
      "outputs": [
        {
          "output_type": "stream",
          "text": "/bin/sh: -c: line 0: syntax error near unexpected token `\"https://github.com/Azure/MachineLearningNotebooks/blob/master/how-to-use-azureml/training-with-deep-learning/distributed-pytorch-with-horovod/pytorch_horovod_mnist.py\"'\r\n/bin/sh: -c: line 0: `wget(\"https://github.com/Azure/MachineLearningNotebooks/blob/master/how-to-use-azureml/training-with-deep-learning/distributed-pytorch-with-horovod/pytorch_horovod_mnist.py\")'\r\n",
          "name": "stdout"
        },
        {
          "output_type": "execute_result",
          "execution_count": 23,
          "data": {
            "text/plain": "'./pytorch-distr-hvd/pytorch_horovod_mnist.py'"
          },
          "metadata": {}
        }
      ]
    },
    {
      "metadata": {},
      "cell_type": "markdown",
      "source": "## Experiment (ワークスペース配下のジョブの管理単位）を作成します"
    },
    {
      "metadata": {
        "trusted": true
      },
      "cell_type": "code",
      "source": "from azureml.core import Experiment\n\nexperiment_name = 'pytorch-distr-hvd'\nexperiment = Experiment(ws, name=experiment_name)",
      "execution_count": 26,
      "outputs": []
    },
    {
      "metadata": {},
      "cell_type": "markdown",
      "source": "## Estimator（ジョブの実行情報やコンテナーの環境情報をまとめて記載した設定）を作成します\n現在、ML Serviceでは、TensorFlowとPytorchには専用のEstimatorが用意されています。そのほかのフレームワークに関してはEstimatorからカスタムで作成します。"
    },
    {
      "metadata": {
        "trusted": true
      },
      "cell_type": "code",
      "source": "from azureml.train.dnn import PyTorch\n\nestimator = PyTorch(source_directory=project_folder,\n                    compute_target=compute_target,\n                    entry_script='pytorch_horovod_mnist.py',\n                    node_count=2,\n                    process_count_per_node=1,\n                    distributed_backend='mpi',\n                    use_gpu=True)",
      "execution_count": 27,
      "outputs": []
    },
    {
      "metadata": {},
      "cell_type": "markdown",
      "source": "## ジョブの実行\n上記Estimatorに沿って、下記コマンドでジョブを実行できます。"
    },
    {
      "metadata": {
        "trusted": true
      },
      "cell_type": "code",
      "source": "run = experiment.submit(estimator)\nprint(run)",
      "execution_count": 34,
      "outputs": [
        {
          "output_type": "stream",
          "text": "Run(Experiment: pytorch-distr-hvd,\nId: pytorch-distr-hvd_1545582966245,\nType: azureml.scriptrun,\nStatus: Queued)\n",
          "name": "stdout"
        }
      ]
    },
    {
      "metadata": {},
      "cell_type": "markdown",
      "source": "### ジョブの監視"
    },
    {
      "metadata": {},
      "cell_type": "markdown",
      "source": "### 非同期の監視 \n10-15秒単位で、非同期にジョブ情報を収集します。グラフィカルな表示とログの表示ができます。"
    },
    {
      "metadata": {
        "trusted": true
      },
      "cell_type": "code",
      "source": "from azureml.widgets import RunDetails\n\nRunDetails(run).show()",
      "execution_count": 36,
      "outputs": [
        {
          "output_type": "display_data",
          "data": {
            "application/vnd.jupyter.widget-view+json": {
              "model_id": "2fa22fab85b34dd7889f5b4a5302190e",
              "version_minor": 0,
              "version_major": 2
            },
            "text/plain": "_UserRunWidget(widget_settings={'childWidgetDisplay': 'popup', 'send_telemetry': True, 'log_level': 'INFO', 's…"
          },
          "metadata": {}
        },
        {
          "output_type": "stream",
          "text": "MSI: Failed to retrieve a token from 'http://localhost:25198/nb/api/nbsvc/oauth2/token' with an error of 'HTTPConnectionPool(host='localhost', port=25198): Max retries exceeded with url: /nb/api/nbsvc/oauth2/token (Caused by NewConnectionError('<urllib3.connection.HTTPConnection object at 0x7f7bd4e99e48>: Failed to establish a new connection: [Errno -3] Temporary failure in name resolution',))'. This could be caused by the MSI extension not yet fullly provisioned.\n",
          "name": "stderr"
        }
      ]
    },
    {
      "metadata": {},
      "cell_type": "markdown",
      "source": "### ログの監視\nJupyterをブロックしてログを表示します。"
    },
    {
      "metadata": {
        "trusted": true
      },
      "cell_type": "code",
      "source": "run.wait_for_completion(show_output=True)",
      "execution_count": null,
      "outputs": []
    }
  ],
  "metadata": {
    "kernelspec": {
      "name": "python36",
      "display_name": "Python 3.6",
      "language": "python"
    },
    "language_info": {
      "mimetype": "text/x-python",
      "nbconvert_exporter": "python",
      "name": "python",
      "pygments_lexer": "ipython3",
      "version": "3.6.6",
      "file_extension": ".py",
      "codemirror_mode": {
        "version": 3,
        "name": "ipython"
      }
    }
  },
  "nbformat": 4,
  "nbformat_minor": 2
}