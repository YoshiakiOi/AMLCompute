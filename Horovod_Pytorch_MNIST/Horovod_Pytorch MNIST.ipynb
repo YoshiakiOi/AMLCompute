{
 "cells": [
  {
   "cell_type": "markdown",
   "metadata": {},
   "source": [
    "# Machine Learning Service - AML ComputeでPytorch MNISTを実行する"
   ]
  },
  {
   "cell_type": "markdown",
   "metadata": {},
   "source": [
    "## SDKのインストール\n",
    "Azure Notebookで実行する際は、SDKのインストールから開始することができます。\n",
    "自分のJupyter環境を利用する場合は、別途環境設定が必要です。\n",
    "詳細は下記をご参照ください。\n",
    "https://docs.microsoft.com/ja-jp/azure/machine-learning/service/how-to-configure-environment"
   ]
  },
  {
   "cell_type": "code",
   "execution_count": 1,
   "metadata": {},
   "outputs": [
    {
     "name": "stderr",
     "output_type": "stream",
     "text": [
      "C:\\Users\\yoo\\AppData\\Local\\Continuum\\anaconda3\\envs\\myenv\\lib\\site-packages\\ipykernel\\parentpoller.py:116: UserWarning: Parent poll failed.  If the frontend dies,\n",
      "                the kernel may be left running.  Please let us know\n",
      "                about your system (bitness, Python, etc.) at\n",
      "                ipython-dev@scipy.org\n",
      "  ipython-dev@scipy.org\"\"\")\n"
     ]
    },
    {
     "name": "stdout",
     "output_type": "stream",
     "text": [
      "SDK version: 0.1.74\n"
     ]
    }
   ],
   "source": [
    "# Check core SDK version number\n",
    "import azureml.core\n",
    "\n",
    "print(\"SDK version:\", azureml.core.VERSION)"
   ]
  },
  {
   "cell_type": "markdown",
   "metadata": {},
   "source": [
    "## 診断ツールのインストール"
   ]
  },
  {
   "cell_type": "code",
   "execution_count": 18,
   "metadata": {},
   "outputs": [],
   "source": [
    "from azureml.telemetry import set_diagnostics_collection\n",
    "\n",
    "set_diagnostics_collection(send_diagnostics=True)"
   ]
  },
  {
   "cell_type": "markdown",
   "metadata": {},
   "source": [
    "## ワークスペースの作成\n",
    "Azure Machine Learning Serviceでは、ワークスペースという管理単位でジョブやクラスターなどを管理します。また、最初にワークスペースを作成する際には、ワークスペースを含むリソースグループの中に、Azure Storage Account, Azure Container Registry, Azure Application Insightsが一緒に作成され、裏側で連携するようになっています。\n",
    "下記のいずれかから、ワークスペースを作成・設定します。なお、下記のプロセスではAzure ADの認証が発生する場合があります。"
   ]
  },
  {
   "cell_type": "code",
   "execution_count": 2,
   "metadata": {},
   "outputs": [
    {
     "ename": "WorkspaceException",
     "evalue": "You have access to more than one subscriptions. Please specify one from this list = [SubscriptionInfo(subscription_name='Microsoft Azure 社内従量課金プラン', subscription_id='d36d3e26-1efc-45c9-9af2-b4c3fc712ef9'), SubscriptionInfo(subscription_name='Cost Management Demo', subscription_id='1caaa5a3-2b66-438e-8ab4-bce37d518c5d'), SubscriptionInfo(subscription_name='Services Hub Demo Open', subscription_id='1b0a5c20-7373-41a2-8fec-7364cceb7bbf'), SubscriptionInfo(subscription_name='Contoso IT – SH360 – Prod', subscription_id='e93d3ee6-fac1-412f-92d6-bfb379e81af2'), SubscriptionInfo(subscription_name='Contoso IT - demo', subscription_id='e4272367-5645-4c4e-9c67-3b74b59a6982'), SubscriptionInfo(subscription_name='Contoso IT – Retail - DevTest', subscription_id='35ad74f4-0b37-44a7-ba94-91b6ec6026cd'), SubscriptionInfo(subscription_name='Contoso Infra3', subscription_id='66ee64da-2532-4d9a-a36b-d745327d20d9'), SubscriptionInfo(subscription_name='Contoso IT – SH360 - DevTest', subscription_id='0745e7d2-1e06-4d9e-9b9b-f42442b8b92f'), SubscriptionInfo(subscription_name='Contoso IT - Retail - Prod', subscription_id='45f9252d-e27e-4ed8-ab4e-dc5054de13fa'), SubscriptionInfo(subscription_name='Contoso IT – SH360 – Pre-Prod', subscription_id='71578c6b-75ba-4865-8f52-3e66d70389fd'), SubscriptionInfo(subscription_name='ASC DEMO', subscription_id='212f9889-769e-45ae-ab43-6da33674bd26'), SubscriptionInfo(subscription_name='Trey Research Alpha Dev', subscription_id='64e355d7-997c-491d-b0c1-8414dccfcf42'), SubscriptionInfo(subscription_name='Trey Research Alpha Lab', subscription_id='586f1d47-9dd9-43d5-b196-6e28f8405ff8'), SubscriptionInfo(subscription_name='Trey Research Beta Lab', subscription_id='ed570627-0265-4620-bb42-bae06bcfa914'), SubscriptionInfo(subscription_name='Trey Research Gamma Lab', subscription_id='9ec51cfd-5ca7-4d76-8101-dd0a4abc5674'), SubscriptionInfo(subscription_name='Trey Research Epsilon Lab', subscription_id='73c0021f-a37d-433f-8baa-7450cb54eea6'), SubscriptionInfo(subscription_name='Trey Research Delta Lab', subscription_id='d08df488-ca06-43c1-936c-23ed0a5126f4')]",
     "output_type": "error",
     "traceback": [
      "\u001b[1;31m---------------------------------------------------------------------------\u001b[0m",
      "\u001b[1;31mWorkspaceException\u001b[0m                        Traceback (most recent call last)",
      "\u001b[1;32m<ipython-input-2-b16fc41f5acd>\u001b[0m in \u001b[0;36m<module>\u001b[1;34m\u001b[0m\n\u001b[0;32m      7\u001b[0m                       \u001b[0mresource_group\u001b[0m\u001b[1;33m=\u001b[0m\u001b[1;34m'ML-EastUS'\u001b[0m\u001b[1;33m,\u001b[0m\u001b[1;33m\u001b[0m\u001b[1;33m\u001b[0m\u001b[0m\n\u001b[0;32m      8\u001b[0m                       \u001b[0mcreate_resource_group\u001b[0m\u001b[1;33m=\u001b[0m\u001b[1;32mTrue\u001b[0m\u001b[1;33m,\u001b[0m\u001b[1;33m\u001b[0m\u001b[1;33m\u001b[0m\u001b[0m\n\u001b[1;32m----> 9\u001b[1;33m                       \u001b[0mlocation\u001b[0m\u001b[1;33m=\u001b[0m\u001b[1;34m'eastus'\u001b[0m \u001b[1;31m# or other supported Azure region\u001b[0m\u001b[1;33m\u001b[0m\u001b[1;33m\u001b[0m\u001b[0m\n\u001b[0m\u001b[0;32m     10\u001b[0m                      )\n",
      "\u001b[1;32m~\\AppData\\Local\\Continuum\\anaconda3\\envs\\myenv\\lib\\site-packages\\azureml\\core\\workspace.py\u001b[0m in \u001b[0;36mcreate\u001b[1;34m(name, auth, subscription_id, resource_group, location, create_resource_group, friendly_name, storage_account, key_vault, app_insights, container_registry, exist_ok, _batchai_workspace)\u001b[0m\n\u001b[0;32m    215\u001b[0m \u001b[1;33m\u001b[0m\u001b[0m\n\u001b[0;32m    216\u001b[0m         \u001b[1;32mif\u001b[0m \u001b[1;32mnot\u001b[0m \u001b[0msubscription_id\u001b[0m\u001b[1;33m:\u001b[0m\u001b[1;33m\u001b[0m\u001b[1;33m\u001b[0m\u001b[0m\n\u001b[1;32m--> 217\u001b[1;33m             \u001b[0msubscription_id\u001b[0m \u001b[1;33m=\u001b[0m \u001b[0mWorkspace\u001b[0m\u001b[1;33m.\u001b[0m\u001b[0m_fetch_subscription\u001b[0m\u001b[1;33m(\u001b[0m\u001b[0mauth\u001b[0m\u001b[1;33m)\u001b[0m\u001b[1;33m\u001b[0m\u001b[1;33m\u001b[0m\u001b[0m\n\u001b[0m\u001b[0;32m    218\u001b[0m \u001b[1;33m\u001b[0m\u001b[0m\n\u001b[0;32m    219\u001b[0m         \u001b[1;32mif\u001b[0m \u001b[1;32mnot\u001b[0m \u001b[0mresource_group\u001b[0m\u001b[1;33m:\u001b[0m\u001b[1;33m\u001b[0m\u001b[1;33m\u001b[0m\u001b[0m\n",
      "\u001b[1;32m~\\AppData\\Local\\Continuum\\anaconda3\\envs\\myenv\\lib\\site-packages\\azureml\\core\\workspace.py\u001b[0m in \u001b[0;36m_fetch_subscription\u001b[1;34m(auth)\u001b[0m\n\u001b[0;32m    915\u001b[0m         \u001b[1;32mif\u001b[0m \u001b[0mlen\u001b[0m\u001b[1;33m(\u001b[0m\u001b[0mall_subscriptions\u001b[0m\u001b[1;33m)\u001b[0m \u001b[1;33m>\u001b[0m \u001b[1;36m1\u001b[0m\u001b[1;33m:\u001b[0m\u001b[1;33m\u001b[0m\u001b[1;33m\u001b[0m\u001b[0m\n\u001b[0;32m    916\u001b[0m             raise WorkspaceException(\"You have access to more than one subscriptions. \"\n\u001b[1;32m--> 917\u001b[1;33m                                      \"Please specify one from this list = {}\".format(all_subscriptions))\n\u001b[0m\u001b[0;32m    918\u001b[0m \u001b[1;33m\u001b[0m\u001b[0m\n\u001b[0;32m    919\u001b[0m         \u001b[1;32mif\u001b[0m \u001b[0mlen\u001b[0m\u001b[1;33m(\u001b[0m\u001b[0mall_subscriptions\u001b[0m\u001b[1;33m)\u001b[0m \u001b[1;33m==\u001b[0m \u001b[1;36m1\u001b[0m\u001b[1;33m:\u001b[0m\u001b[1;33m\u001b[0m\u001b[1;33m\u001b[0m\u001b[0m\n",
      "\u001b[1;31mWorkspaceException\u001b[0m: You have access to more than one subscriptions. Please specify one from this list = [SubscriptionInfo(subscription_name='Microsoft Azure 社内従量課金プラン', subscription_id='d36d3e26-1efc-45c9-9af2-b4c3fc712ef9'), SubscriptionInfo(subscription_name='Cost Management Demo', subscription_id='1caaa5a3-2b66-438e-8ab4-bce37d518c5d'), SubscriptionInfo(subscription_name='Services Hub Demo Open', subscription_id='1b0a5c20-7373-41a2-8fec-7364cceb7bbf'), SubscriptionInfo(subscription_name='Contoso IT – SH360 – Prod', subscription_id='e93d3ee6-fac1-412f-92d6-bfb379e81af2'), SubscriptionInfo(subscription_name='Contoso IT - demo', subscription_id='e4272367-5645-4c4e-9c67-3b74b59a6982'), SubscriptionInfo(subscription_name='Contoso IT – Retail - DevTest', subscription_id='35ad74f4-0b37-44a7-ba94-91b6ec6026cd'), SubscriptionInfo(subscription_name='Contoso Infra3', subscription_id='66ee64da-2532-4d9a-a36b-d745327d20d9'), SubscriptionInfo(subscription_name='Contoso IT – SH360 - DevTest', subscription_id='0745e7d2-1e06-4d9e-9b9b-f42442b8b92f'), SubscriptionInfo(subscription_name='Contoso IT - Retail - Prod', subscription_id='45f9252d-e27e-4ed8-ab4e-dc5054de13fa'), SubscriptionInfo(subscription_name='Contoso IT – SH360 – Pre-Prod', subscription_id='71578c6b-75ba-4865-8f52-3e66d70389fd'), SubscriptionInfo(subscription_name='ASC DEMO', subscription_id='212f9889-769e-45ae-ab43-6da33674bd26'), SubscriptionInfo(subscription_name='Trey Research Alpha Dev', subscription_id='64e355d7-997c-491d-b0c1-8414dccfcf42'), SubscriptionInfo(subscription_name='Trey Research Alpha Lab', subscription_id='586f1d47-9dd9-43d5-b196-6e28f8405ff8'), SubscriptionInfo(subscription_name='Trey Research Beta Lab', subscription_id='ed570627-0265-4620-bb42-bae06bcfa914'), SubscriptionInfo(subscription_name='Trey Research Gamma Lab', subscription_id='9ec51cfd-5ca7-4d76-8101-dd0a4abc5674'), SubscriptionInfo(subscription_name='Trey Research Epsilon Lab', subscription_id='73c0021f-a37d-433f-8baa-7450cb54eea6'), SubscriptionInfo(subscription_name='Trey Research Delta Lab', subscription_id='d08df488-ca06-43c1-936c-23ed0a5126f4')]"
     ]
    }
   ],
   "source": [
    "# ワークスペースを新規に作成する\n",
    "# ワークスペースの作成には引数として、名前、サブスクリプションID、リソースグループ名、ロケーション（リージョン）が必要です。\n",
    "from azureml.core.workspace import Workspace\n",
    "\n",
    "ws = Workspace.create(name='WS-EastUS',\n",
    "                      subscription_id='<サブスクリプションID>',\n",
    "                      resource_group='ML-EastUS',\n",
    "                      create_resource_group=True,\n",
    "                      location='eastus' # or other supported Azure region\n",
    "                     )"
   ]
  },
  {
   "cell_type": "code",
   "execution_count": 20,
   "metadata": {},
   "outputs": [],
   "source": [
    "# 既存のワークスペースをつなげる\n",
    "from azureml.core.workspace import Workspace\n",
    "ws = Workspace.get(name='WS-EastUS',\n",
    "                      subscription_id='<サブスクリプションID>',\n",
    "                      resource_group='ML-EastUS'\n",
    "                     )"
   ]
  },
  {
   "cell_type": "code",
   "execution_count": 32,
   "metadata": {},
   "outputs": [
    {
     "name": "stdout",
     "output_type": "stream",
     "text": [
      "Wrote the config file config.json to: /home/nbuser/library/training/02.distributed-pytorch-with-horovod/aml_config/config.json\n"
     ]
    }
   ],
   "source": [
    "# ワークスペース情報をconfigファイルに設定する\n",
    "ws.write_config()"
   ]
  },
  {
   "cell_type": "code",
   "execution_count": 33,
   "metadata": {},
   "outputs": [
    {
     "name": "stdout",
     "output_type": "stream",
     "text": [
      "Found the config file in: /home/nbuser/library/training/02.distributed-pytorch-with-horovod/aml_config/config.json\n"
     ]
    }
   ],
   "source": [
    "# configファイルから既存のワークスペース情報を取得し、つなげる\n",
    "ws = Workspace.from_config()"
   ]
  },
  {
   "cell_type": "markdown",
   "metadata": {},
   "source": [
    "## AML Computeクラスターの作成\n",
    "Azure Machine Learning Serviceの中で、AML Computeクラスターを作成します。\n",
    "下記では、既存のクラスターが存在する場合はクラスターを接続、ない場合は新規にクラスターを作成します。"
   ]
  },
  {
   "cell_type": "code",
   "execution_count": 21,
   "metadata": {},
   "outputs": [
    {
     "name": "stdout",
     "output_type": "stream",
     "text": [
      "Found existing compute target.\n",
      "{'allocationState': 'Steady', 'allocationStateTransitionTime': '2018-12-23T15:17:38.951000+00:00', 'creationTime': '2018-12-23T15:16:43.882504+00:00', 'currentNodeCount': 0, 'errors': None, 'modifiedTime': '2018-12-23T15:17:47.901864+00:00', 'nodeStateCounts': {'idleNodeCount': 0, 'leavingNodeCount': 0, 'preemptedNodeCount': 0, 'preparingNodeCount': 0, 'runningNodeCount': 0, 'unusableNodeCount': 0}, 'provisioningState': 'Succeeded', 'provisioningStateTransitionTime': None, 'scaleSettings': {'minNodeCount': 0, 'maxNodeCount': 2, 'nodeIdleTimeBeforeScaleDown': 'PT120S'}, 'targetNodeCount': 0, 'vmPriority': 'LowPriority', 'vmSize': 'STANDARD_NC6'}\n"
     ]
    }
   ],
   "source": [
    "from azureml.core.compute import ComputeTarget, AmlCompute\n",
    "from azureml.core.compute_target import ComputeTargetException\n",
    "\n",
    "# choose a name for your cluster\n",
    "cluster_name = \"gpucluster\"\n",
    "\n",
    "try:\n",
    "    compute_target = ComputeTarget(workspace=ws, name=cluster_name)\n",
    "    print('Found existing compute target.')\n",
    "except ComputeTargetException:\n",
    "    print('Creating a new compute target...')\n",
    "    compute_config = AmlCompute.provisioning_configuration(vm_size='STANDARD_NC6',\n",
    "                                                           vm_priority=\"lowpriority\",\n",
    "                                                           max_nodes=2)\n",
    "\n",
    "    # create the cluster\n",
    "    compute_target = ComputeTarget.create(ws, cluster_name, compute_config)\n",
    "\n",
    "    compute_target.wait_for_completion(show_output=True)\n",
    "\n",
    "# Use the 'status' property to get a detailed status for the current AmlCompute. \n",
    "print(compute_target.status.serialize())"
   ]
  },
  {
   "cell_type": "markdown",
   "metadata": {},
   "source": [
    "## サンプルコードの用意\n",
    "ローカル（この例では、Azure Notebookの動いている環境（コンテナー）上）にディレクトリと実際に使うコードを用意します。\n",
    "この例では、カレントディレクトリの配下にpytorch-distr-hvdを作成します。"
   ]
  },
  {
   "cell_type": "code",
   "execution_count": 22,
   "metadata": {},
   "outputs": [],
   "source": [
    "import os\n",
    "\n",
    "project_folder = './pytorch-distr-hvd'\n",
    "os.makedirs(project_folder, exist_ok=True)"
   ]
  },
  {
   "cell_type": "markdown",
   "metadata": {},
   "source": [
    "### Pytorch・HorovodのMNISTのサンプルコードをダウンロードします"
   ]
  },
  {
   "cell_type": "code",
   "execution_count": 23,
   "metadata": {},
   "outputs": [
    {
     "name": "stdout",
     "output_type": "stream",
     "text": [
      "/bin/sh: -c: line 0: syntax error near unexpected token `\"https://github.com/Azure/MachineLearningNotebooks/blob/master/how-to-use-azureml/training-with-deep-learning/distributed-pytorch-with-horovod/pytorch_horovod_mnist.py\"'\r\n",
      "/bin/sh: -c: line 0: `wget(\"https://github.com/Azure/MachineLearningNotebooks/blob/master/how-to-use-azureml/training-with-deep-learning/distributed-pytorch-with-horovod/pytorch_horovod_mnist.py\")'\r\n"
     ]
    },
    {
     "data": {
      "text/plain": [
       "'./pytorch-distr-hvd/pytorch_horovod_mnist.py'"
      ]
     },
     "execution_count": 23,
     "metadata": {},
     "output_type": "execute_result"
    }
   ],
   "source": [
    "import shutil\n",
    "\n",
    "!wget \"https://github.com/Azure/MachineLearningNotebooks/blob/master/how-to-use-azureml/training-with-deep-learning/distributed-pytorch-with-horovod/pytorch_horovod_mnist.py\"\n",
    "shutil.copy('pytorch_horovod_mnist.py', project_folder)"
   ]
  },
  {
   "cell_type": "markdown",
   "metadata": {},
   "source": [
    "## Experiment (ワークスペース配下のジョブの管理単位）を作成します"
   ]
  },
  {
   "cell_type": "code",
   "execution_count": 26,
   "metadata": {},
   "outputs": [],
   "source": [
    "from azureml.core import Experiment\n",
    "\n",
    "experiment_name = 'pytorch-distr-hvd'\n",
    "experiment = Experiment(ws, name=experiment_name)"
   ]
  },
  {
   "cell_type": "markdown",
   "metadata": {},
   "source": [
    "## Estimator（ジョブの実行情報やコンテナーの環境情報をまとめて記載した設定）を作成します\n",
    "現在、ML Serviceでは、TensorFlowとPytorchには専用のEstimatorが用意されています。そのほかのフレームワークに関してはEstimatorからカスタムで作成します。"
   ]
  },
  {
   "cell_type": "code",
   "execution_count": 27,
   "metadata": {},
   "outputs": [],
   "source": [
    "from azureml.train.dnn import PyTorch\n",
    "\n",
    "estimator = PyTorch(source_directory=project_folder,\n",
    "                    compute_target=compute_target,\n",
    "                    entry_script='pytorch_horovod_mnist.py',\n",
    "                    node_count=2,\n",
    "                    process_count_per_node=1,\n",
    "                    distributed_backend='mpi',\n",
    "                    use_gpu=True)"
   ]
  },
  {
   "cell_type": "markdown",
   "metadata": {},
   "source": [
    "## ジョブの実行\n",
    "上記Estimatorに沿って、下記コマンドでジョブを実行できます。"
   ]
  },
  {
   "cell_type": "code",
   "execution_count": 34,
   "metadata": {},
   "outputs": [
    {
     "name": "stdout",
     "output_type": "stream",
     "text": [
      "Run(Experiment: pytorch-distr-hvd,\n",
      "Id: pytorch-distr-hvd_1545582966245,\n",
      "Type: azureml.scriptrun,\n",
      "Status: Queued)\n"
     ]
    }
   ],
   "source": [
    "run = experiment.submit(estimator)\n",
    "print(run)"
   ]
  },
  {
   "cell_type": "markdown",
   "metadata": {},
   "source": [
    "### ジョブの監視"
   ]
  },
  {
   "cell_type": "markdown",
   "metadata": {},
   "source": [
    "### 非同期の監視 \n",
    "10-15秒単位で、非同期にジョブ情報を収集します。グラフィカルな表示とログの表示ができます。"
   ]
  },
  {
   "cell_type": "code",
   "execution_count": 36,
   "metadata": {},
   "outputs": [
    {
     "data": {
      "application/vnd.jupyter.widget-view+json": {
       "model_id": "2fa22fab85b34dd7889f5b4a5302190e",
       "version_major": 2,
       "version_minor": 0
      },
      "text/plain": [
       "_UserRunWidget(widget_settings={'childWidgetDisplay': 'popup', 'send_telemetry': True, 'log_level': 'INFO', 's…"
      ]
     },
     "metadata": {},
     "output_type": "display_data"
    },
    {
     "name": "stderr",
     "output_type": "stream",
     "text": [
      "MSI: Failed to retrieve a token from 'http://localhost:25198/nb/api/nbsvc/oauth2/token' with an error of 'HTTPConnectionPool(host='localhost', port=25198): Max retries exceeded with url: /nb/api/nbsvc/oauth2/token (Caused by NewConnectionError('<urllib3.connection.HTTPConnection object at 0x7f7bd4e99e48>: Failed to establish a new connection: [Errno -3] Temporary failure in name resolution',))'. This could be caused by the MSI extension not yet fullly provisioned.\n"
     ]
    }
   ],
   "source": [
    "from azureml.widgets import RunDetails\n",
    "\n",
    "RunDetails(run).show()"
   ]
  },
  {
   "cell_type": "markdown",
   "metadata": {},
   "source": [
    "### ログの監視\n",
    "Jupyterをブロックしてログを表示します。"
   ]
  },
  {
   "cell_type": "code",
   "execution_count": null,
   "metadata": {},
   "outputs": [],
   "source": [
    "run.wait_for_completion(show_output=True)"
   ]
  }
 ],
 "metadata": {
  "kernelspec": {
   "display_name": "Python [conda env:myenv]",
   "language": "python",
   "name": "conda-env-myenv-py"
  },
  "language_info": {
   "codemirror_mode": {
    "name": "ipython",
    "version": 3
   },
   "file_extension": ".py",
   "mimetype": "text/x-python",
   "name": "python",
   "nbconvert_exporter": "python",
   "pygments_lexer": "ipython3",
   "version": "3.6.7"
  }
 },
 "nbformat": 4,
 "nbformat_minor": 2
}
